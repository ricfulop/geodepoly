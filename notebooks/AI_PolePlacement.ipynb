{
  "cells": [
    {
      "cell_type": "markdown",
      "metadata": {},
      "source": [
        "# Pole Placement (Torch)\n",
        "\n",
        "Place polynomial roots in the left-half plane with a simple training loop.\n"
      ]
    },
    {
      "cell_type": "code",
      "execution_count": null,
      "metadata": {},
      "outputs": [],
      "source": [
        "# Install\n",
        "try:\n",
        "    import geodepoly  # noqa: F401\n",
        "except Exception:\n",
        "    import sys, subprocess\n",
        "    subprocess.check_call([sys.executable, \"-m\", \"pip\", \"install\", \"geodepoly[ai-torch]\"])\n",
        "\n",
        "import torch\n",
        "from geodepoly.ai import root_solve_torch\n",
        "from geodepoly.ai.losses import pole_placement_loss\n",
        "\n",
        "B, N = 16, 4\n",
        "coeffs = torch.randn(B, N+1, dtype=torch.cdouble, requires_grad=True)\n",
        "opt = torch.optim.Adam([coeffs], lr=1e-2)\n",
        "for step in range(50):\n",
        "    roots = root_solve_torch(coeffs)\n",
        "    loss = pole_placement_loss(roots, half_plane=\"left\", margin=0.1)\n",
        "    opt.zero_grad(); loss.backward(); opt.step()\n",
        "    if step % 10 == 0:\n",
        "        print(step, loss.item())\n",
        "roots.shape\n"
      ]
    }
  ],
  "metadata": {
    "language_info": {
      "name": "python"
    }
  },
  "nbformat": 4,
  "nbformat_minor": 2
}
