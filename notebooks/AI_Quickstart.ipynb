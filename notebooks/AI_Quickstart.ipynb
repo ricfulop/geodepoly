{
  "cells": [
    {
      "cell_type": "code",
      "execution_count": null,
      "metadata": {},
      "outputs": [],
      "source": [
        "# GeodePoly AI Quickstart\n",
        "\n",
        "This Colab-friendly notebook shows how to use the differentiable RootLayer and losses.\n"
      ]
    },
    {
      "cell_type": "code",
      "execution_count": null,
      "metadata": {},
      "outputs": [],
      "source": [
        "# pip install -q geodepoly[ai-torch]\n",
        "import torch\n",
        "from geodepoly.ai import root_solve_torch\n",
        "from geodepoly.ai.losses import pole_placement_loss, spectral_radius_loss\n",
        "\n",
        "B, N = 8, 5\n",
        "coeffs = torch.randn(B, N+1, dtype=torch.cdouble, requires_grad=True)\n",
        "roots = root_solve_torch(coeffs)\n",
        "loss = pole_placement_loss(roots, half_plane='left', margin=0.1) + spectral_radius_loss(roots, target=1.0)\n",
        "loss.backward()\n",
        "roots.shape, loss.item()\n"
      ]
    }
  ],
  "metadata": {
    "language_info": {
      "name": "python"
    }
  },
  "nbformat": 4,
  "nbformat_minor": 2
}
