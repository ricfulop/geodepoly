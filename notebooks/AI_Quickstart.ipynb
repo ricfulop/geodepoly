{
  "cells": [
    {
      "cell_type": "code",
      "execution_count": null,
      "metadata": {},
      "outputs": [],
      "source": []
    },
    {
      "cell_type": "markdown",
      "metadata": {},
      "source": []
    },
    {
      "cell_type": "code",
      "execution_count": null,
      "metadata": {},
      "outputs": [],
      "source": [
        "_ = \"\"\"\n",
        "# GeodePoly AI Quickstart\n",
        "\n",
        "This Colab-friendly notebook shows how to use the differentiable RootLayer and losses.\n",
        "\n",
        "What you'll do:\n",
        "- Install packages (automatically if missing)\n",
        "- Run a minimal Torch example (CPU or GPU)\n",
        "- Optionally try the JAX example\n",
        "\"\"\"\n",
        "\n"
      ]
    },
    {
      "cell_type": "code",
      "execution_count": null,
      "metadata": {},
      "outputs": [],
      "source": [
        "# Install geodepoly with AI extras (in Colab)\n",
        "try:\n",
        "    import geodepoly  # noqa: F401\n",
        "except Exception:\n",
        "    import sys, subprocess\n",
        "    subprocess.check_call([sys.executable, \"-m\", \"pip\", \"install\", \"geodepoly[ai-torch]\"])\n",
        "\n",
        "import torch\n",
        "from geodepoly.ai import root_solve_torch\n",
        "from geodepoly.ai.losses import pole_placement_loss\n",
        "\n",
        "# Minimal Torch demo\n",
        "B, N = 4, 4\n",
        "coeffs = torch.randn(B, N+1, dtype=torch.cdouble, requires_grad=True)\n",
        "roots  = root_solve_torch(coeffs)\n",
        "loss   = pole_placement_loss(roots, half_plane=\"left\", margin=0.1)\n",
        "loss.backward()\n",
        "roots.shape, loss.item()\n"
      ]
    },
    {
      "cell_type": "code",
      "execution_count": null,
      "metadata": {},
      "outputs": [],
      "source": [
        "# Optional: JAX demo (skips if JAX unavailable)\n",
        "try:\n",
        "    import jax\n",
        "    import jax.numpy as jnp\n",
        "    from geodepoly.ai import root_solve_jax\n",
        "\n",
        "    B, N = 2, 3\n",
        "    key = jax.random.PRNGKey(0)\n",
        "    k1, k2 = jax.random.split(key)\n",
        "    coeffs = (jax.random.normal(k1, (B, N+1)) + 1j * jax.random.normal(k2, (B, N+1))).astype(jnp.complex128)\n",
        "    roots = root_solve_jax(coeffs)\n",
        "    roots.shape\n",
        "except Exception as e:\n",
        "    print(\"JAX not available:\", e)\n"
      ]
    }
  ],
  "metadata": {
    "language_info": {
      "name": "python"
    }
  },
  "nbformat": 4,
  "nbformat_minor": 2
}
