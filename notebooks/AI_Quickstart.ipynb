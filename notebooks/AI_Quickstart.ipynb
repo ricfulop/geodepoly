{
  "cells": [
    {
      "cell_type": "code",
      "execution_count": null,
      "metadata": {},
      "outputs": [],
      "source": [
        "# GeodePoly AI Quickstart\n",
        "\n",
        "This Colab-friendly notebook shows how to use the differentiable RootLayer and losses.\n"
      ]
    }
  ],
  "metadata": {
    "language_info": {
      "name": "python"
    }
  },
  "nbformat": 4,
  "nbformat_minor": 2
}
