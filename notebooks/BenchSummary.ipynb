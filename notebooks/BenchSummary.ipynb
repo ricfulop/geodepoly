{
  "cells": [
    {
      "cell_type": "code",
      "execution_count": null,
      "metadata": {},
      "outputs": [],
      "source": [
        "# Bench Summary\n",
        "import pandas as pd\n",
        "\n",
        "df = pd.read_csv('../docs/assets/bench_agg.csv')\n",
        "df.head()\n"
      ]
    }
  ],
  "metadata": {
    "language_info": {
      "name": "python"
    }
  },
  "nbformat": 4,
  "nbformat_minor": 2
}
