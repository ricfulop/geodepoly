{
  "cells": [
    {
      "cell_type": "code",
      "execution_count": null,
      "metadata": {},
      "outputs": [],
      "source": [
        "# GeodeBench Starter\n",
        "import pandas as pd\n",
        "\n",
        "slices = pd.read_csv('../docs/assets/geode_slices.csv')\n",
        "slices.head()\n"
      ]
    }
  ],
  "metadata": {
    "language_info": {
      "name": "python"
    }
  },
  "nbformat": 4,
  "nbformat_minor": 2
}
