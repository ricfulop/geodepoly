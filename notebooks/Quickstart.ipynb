{
  "cells": [
    {
      "cell_type": "code",
      "execution_count": null,
      "metadata": {},
      "outputs": [],
      "source": [
        "# Quickstart\n",
        "from geodepoly import solve_all, series_one_root\n",
        "\n",
        "coeffs = [1, 0, -7, 6]\n",
        "roots = solve_all(coeffs, method=\"hybrid\", resum=\"auto\")\n",
        "roots\n"
      ]
    }
  ],
  "metadata": {
    "language_info": {
      "name": "python"
    }
  },
  "nbformat": 4,
  "nbformat_minor": 2
}
