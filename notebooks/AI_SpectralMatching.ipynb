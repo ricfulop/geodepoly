{
  "cells": [
    {
      "cell_type": "markdown",
      "metadata": {},
      "source": [
        "# Spectral Matching (Torch)\n",
        "\n",
        "Fit coefficients to match a target set of roots.\n"
      ]
    },
    {
      "cell_type": "code",
      "execution_count": null,
      "metadata": {},
      "outputs": [],
      "source": [
        "# Install\n",
        "try:\n",
        "    import geodepoly  # noqa: F401\n",
        "except Exception:\n",
        "    import sys, subprocess\n",
        "    subprocess.check_call([sys.executable, \"-m\", \"pip\", \"install\", \"geodepoly[ai-torch]\"])\n",
        "\n",
        "import torch\n",
        "from geodepoly.ai import root_solve_torch\n",
        "from geodepoly.ai.losses import root_set_loss\n",
        "\n",
        "B, N = 8, 3\n",
        "coeffs = torch.randn(B, N+1, dtype=torch.cdouble, requires_grad=True)\n",
        "# target roots\n",
        "target = torch.randn(B, N, dtype=torch.cdouble)\n",
        "opt = torch.optim.Adam([coeffs], lr=1e-2)\n",
        "for step in range(50):\n",
        "    roots = root_solve_torch(coeffs)\n",
        "    loss = root_set_loss(roots, target, match=\"hungarian\")\n",
        "    opt.zero_grad(); loss.backward(); opt.step()\n",
        "    if step % 10 == 0:\n",
        "        print(step, loss.item())\n",
        "roots.shape\n"
      ]
    }
  ],
  "metadata": {
    "language_info": {
      "name": "python"
    }
  },
  "nbformat": 4,
  "nbformat_minor": 2
}
